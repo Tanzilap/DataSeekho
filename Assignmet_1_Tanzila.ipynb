{
  "nbformat": 4,
  "nbformat_minor": 0,
  "metadata": {
    "colab": {
      "provenance": [],
      "authorship_tag": "ABX9TyNL2Z5psrhRnumP6GG/zs7A",
      "include_colab_link": true
    },
    "kernelspec": {
      "name": "python3",
      "display_name": "Python 3"
    },
    "language_info": {
      "name": "python"
    }
  },
  "cells": [
    {
      "cell_type": "markdown",
      "metadata": {
        "id": "view-in-github",
        "colab_type": "text"
      },
      "source": [
        "<a href=\"https://colab.research.google.com/github/Tanzilap/DataSeekho/blob/main/Assignmet_1_Tanzila.ipynb\" target=\"_parent\"><img src=\"https://colab.research.google.com/assets/colab-badge.svg\" alt=\"Open In Colab\"/></a>"
      ]
    },
    {
      "cell_type": "markdown",
      "source": [
        "**Exercise 1: Comments**\n",
        "\n",
        "Write a program that prints your name and includes both single-line and multi-line comments explaining what each part of your code does.\n"
      ],
      "metadata": {
        "id": "GCmFBNWeON4l"
      }
    },
    {
      "cell_type": "code",
      "source": [
        "\"\"\" Multiple line comment:\n",
        "1- Assign a variable that sotres string value\n",
        "2- Print the string with variable(full_name). To do this we use f-string which\n",
        "   will embed the value of variable within the string\"\"\"\n",
        "\n",
        "\n",
        "# Assign a variabale which store string value\n",
        "full_name = 'Tanzila'\n",
        "# Print the string with variable(full_name). To do this we use f-string which\n",
        "# will embed the value of variable within the string\n",
        "print(f'Hello, my name is : {full_name}')"
      ],
      "metadata": {
        "colab": {
          "base_uri": "https://localhost:8080/"
        },
        "id": "0szKB2xkOT1Q",
        "outputId": "14c705ed-d1a6-4f60-e095-df24c4597533"
      },
      "execution_count": 8,
      "outputs": [
        {
          "output_type": "stream",
          "name": "stdout",
          "text": [
            "Hello, my name is : Tanzila\n"
          ]
        }
      ]
    },
    {
      "cell_type": "markdown",
      "source": [
        "**Exercise 2: Error Identification**\n",
        "\n",
        "Below is a piece of code with some intentional errors. Identify and correct the errors. Explain the type of error for each correction made.\n",
        "> print(\"Welcome to Python!\"\n",
        "\n",
        "> result = 10 / 0\n",
        "\n",
        "> my_list = [1, 2, 3\n",
        "\n",
        "> print(my_list[3])"
      ],
      "metadata": {
        "id": "Wno24fsFTqfa"
      }
    },
    {
      "cell_type": "code",
      "source": [
        "# Error 1 : 'Syntax Error' it occur because of missing paranthesis at the end\n",
        "print('Welcome to Python!')\n",
        "\n",
        "# Error 2 : 'RunTime error(ZeroDivisionError)' it occur because dividing by zero is undefined\n",
        "result = 0 / 10\n",
        "print(result)\n",
        "\n",
        "# Error 3 : 'Syntax Error' it occur because of missing closing square bracket of list\n",
        "my_list = [1, 2, 3]\n",
        "\n",
        "# Error 4 : 'Index Error' it occuur because index is out of range\n",
        "print(my_list[2])"
      ],
      "metadata": {
        "colab": {
          "base_uri": "https://localhost:8080/"
        },
        "id": "5ghPfNetUigG",
        "outputId": "cef1baf4-1758-4c64-ae7c-0f3c71d6d07c"
      },
      "execution_count": 19,
      "outputs": [
        {
          "output_type": "stream",
          "name": "stdout",
          "text": [
            "Welcome to Python!\n",
            "0.0\n",
            "3\n"
          ]
        }
      ]
    },
    {
      "cell_type": "markdown",
      "source": [
        "**Exercise 3: Variable Assignment**\n",
        "\n",
        "Create a program that:\n",
        "\n",
        "*   Assign your name (string), age (integer), height (float), and whether you are a student (boolean) to variables.\n",
        "*   Prints each variable with an appropriate message\n",
        "\n",
        "\n"
      ],
      "metadata": {
        "id": "3xdU1W_8fzCg"
      }
    },
    {
      "cell_type": "code",
      "source": [
        "# Assign full name as a string\n",
        "full_name = 'Tanzila Parvaiz'\n",
        "\n",
        "# Assign age as a int\n",
        "Age = 25\n",
        "\n",
        "# Assign height as a float\n",
        "Height = 5.4\n",
        "\n",
        "# Assign whether the person is a student (boolean)\n",
        "is_student = False\n",
        "\n",
        "# Print the result with appropriate message\n",
        "print(f'My name is : {full_name}')\n",
        "print(f'I am {Age} years old')\n",
        "print(f'My height is : {Height}')\n",
        "print(f'Am I a student : {is_student}')"
      ],
      "metadata": {
        "colab": {
          "base_uri": "https://localhost:8080/"
        },
        "id": "LFhFqBKugA3u",
        "outputId": "ff4f569d-e364-48e8-ff91-f5eb6535d3a3"
      },
      "execution_count": 22,
      "outputs": [
        {
          "output_type": "stream",
          "name": "stdout",
          "text": [
            "My name is : Tanzila Parvaiz\n",
            "I am 25 years old\n",
            "My height is : 5.4\n",
            "Am I a student : False\n"
          ]
        }
      ]
    },
    {
      "cell_type": "markdown",
      "source": [
        "**Exercise 4: Descriptive Variable Names**\n",
        "\n",
        "Rewrite the following code using descriptive variable names:\n",
        "\n",
        "a = 5\n",
        "\n",
        "b = 10\n",
        "\n",
        "c = a * b\n",
        "\n",
        "print(c)\n"
      ],
      "metadata": {
        "id": "qjpNqv7Xh3e_"
      }
    },
    {
      "cell_type": "code",
      "source": [
        "# Assigning the fist number\n",
        "first_number = 5\n",
        "\n",
        "# Assigning the second number\n",
        "second_number = 10\n",
        "\n",
        "# Multiplying the two numbers\n",
        "result = first_number * second_number\n",
        "\n",
        "# Print the result\n",
        "print(result)"
      ],
      "metadata": {
        "colab": {
          "base_uri": "https://localhost:8080/"
        },
        "id": "puHzrqqgh-xh",
        "outputId": "5d810c4a-554a-432c-c533-4181de6f5c87"
      },
      "execution_count": 23,
      "outputs": [
        {
          "output_type": "stream",
          "name": "stdout",
          "text": [
            "50\n"
          ]
        }
      ]
    },
    {
      "cell_type": "markdown",
      "source": [
        "**Exercise 5: Numeric Types and Operations**\n",
        "\n",
        "Perform the following operations and print the results:\n",
        "Add two integers\n",
        "\n",
        "*   Add two integers\n",
        "*   Subtract a float from an integer\n",
        "\n",
        "*   Multiply a float by a complex number\n",
        "*   Divide an integer by zero (observe and write down the error)"
      ],
      "metadata": {
        "id": "qjg0jo0eiQtS"
      }
    },
    {
      "cell_type": "code",
      "source": [
        "# Add two integers\n",
        "5 + 6\n",
        "\n",
        "# Subtract a float from an integer\n",
        "2.5 - 2\n",
        "\n",
        "# Multiply a float by a complex number\n",
        "3.9 * (2 + 5j)\n",
        "\n",
        "# Division\n",
        "15/3\n",
        "\n",
        "# Divide an integer by zero\n",
        "15/0 # ZeroDivisionError occurs because division by zero is undefined"
      ],
      "metadata": {
        "colab": {
          "base_uri": "https://localhost:8080/"
        },
        "id": "HiqCQ8C4iOMz",
        "outputId": "6662236b-b1bf-41d3-bdb7-855db450434b"
      },
      "execution_count": 28,
      "outputs": [
        {
          "output_type": "execute_result",
          "data": {
            "text/plain": [
              "5.0"
            ]
          },
          "metadata": {},
          "execution_count": 28
        }
      ]
    },
    {
      "cell_type": "markdown",
      "source": [
        "**Exercise 6: Built-in Functions**\n",
        "\n",
        "Write a program that:\n",
        "\n",
        "Takes a list of numbers as input from the user.\n",
        "\n",
        "Uses the abs(), max(), and min() functions to find the absolute values, maximum, and minimum of the numbers.\n",
        "\n",
        "Prints the results with appropriate messages.\n",
        "\n",
        "Example input: [-5, 3.2, -1, 0, 12]\n"
      ],
      "metadata": {
        "id": "DnSSy6SEkRsZ"
      }
    },
    {
      "cell_type": "code",
      "source": [
        "# Take input from the user\n",
        "my_list = input(\"Enter a list of numbers separated by commas : \")\n",
        "\n",
        "# Convert the input string into a list of numbers and then convert each string in the list to a float\n",
        "numbers = [float(num) for num in my_list.split(',')]\n",
        "\n",
        "# Finding the absolute values using abs() for each number\n",
        "absolute_values = [abs(num) for num in numbers]\n",
        "\n",
        "# Finding the maximum and minimum values using max() and min()\n",
        "maximum_value = max(numbers)\n",
        "minimum_value = min(numbers)\n",
        "\n",
        "# Printing the results with appropriate messages\n",
        "print(f\"Original list: {numbers}\")\n",
        "print(f\"Absolute values: {absolute_values}\")\n",
        "print(f\"Maximum value: {maximum_value}\")\n",
        "print(f\"Minimum value: {minimum_value}\")\n"
      ],
      "metadata": {
        "colab": {
          "base_uri": "https://localhost:8080/"
        },
        "id": "OYUdnExIqLBV",
        "outputId": "b123d4ac-ecde-4abf-9210-6fbf4214f7eb"
      },
      "execution_count": 5,
      "outputs": [
        {
          "output_type": "stream",
          "name": "stdout",
          "text": [
            "Enter a list of numbers separated by commas : -5, 3.2, -1, 0,12\n",
            "Original list: [-5.0, 3.2, -1.0, 0.0, 12.0]\n",
            "Absolute values: [5.0, 3.2, 1.0, 0.0, 12.0]\n",
            "Maximum value: 12.0\n",
            "Minimum value: -5.0\n"
          ]
        }
      ]
    },
    {
      "cell_type": "markdown",
      "source": [
        "**Exercise 7: Arithmetic Operations**\n",
        "\n",
        "Create a simple calculator program that:\n",
        "\n",
        "Prompts the user to enter two numbers.\n",
        "\n",
        "Asks the user to select an operation: addition, subtraction, multiplication, or division.\n",
        "\n",
        "Performs the selected operation and prints the result. Handle division by zero gracefully.\n"
      ],
      "metadata": {
        "id": "0Busb4b_Muty"
      }
    },
    {
      "cell_type": "code",
      "source": [
        "# Get first number from user\n",
        "first_number = float(input('Enter first number :'))\n",
        "\n",
        "# Get first number from user\n",
        "second_number = float(input('Enter second number :'))\n",
        "\n",
        "# Ask the user to select operation\n",
        "print('1- Addition')\n",
        "print('2- Subtraction')\n",
        "print('3- Multiplication')\n",
        "print('4- Division')\n",
        "\n",
        "# Get the operation from user\n",
        "operation = input('Enter number correspondence to operation :')\n",
        "\n",
        "# Performing the selected operation\n",
        "if operation == '1':\n",
        "  print(f'Sum of two numbers : {first_number + second_number}')\n",
        "elif operation == '2':\n",
        "  print(f'Subtraction of two numbers : {first_number - second_number}')\n",
        "elif operation == '3':\n",
        "  print(f'Product of two numbers : {first_number * second_number}')\n",
        "elif operation == '4':\n",
        "# Defining Second number can not be zero\n",
        "  if second_number != 0:\n",
        "    print(f'Division of two numbers : {first_number / second_number}')\n",
        "# if second number is zero message will show division is not possile\n",
        "  else:\n",
        "      print('Division by zero is not possible')"
      ],
      "metadata": {
        "colab": {
          "base_uri": "https://localhost:8080/"
        },
        "id": "wWpBnXtZrgPy",
        "outputId": "a7cdab71-1520-465b-acc9-8fcf04a002e8"
      },
      "execution_count": 12,
      "outputs": [
        {
          "output_type": "stream",
          "name": "stdout",
          "text": [
            "Enter first number :2\n",
            "Enter second number :3\n",
            "1- Addition\n",
            "2- Subtraction\n",
            "3- Multiplication\n",
            "4- Division\n",
            "Enter number correspondence to operation :3\n",
            "Product of two numbers : 6.0\n"
          ]
        }
      ]
    }
  ]
}